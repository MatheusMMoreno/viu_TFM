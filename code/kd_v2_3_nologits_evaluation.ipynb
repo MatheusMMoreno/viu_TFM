{
 "cells": [
  {
   "cell_type": "code",
   "execution_count": 31,
   "metadata": {},
   "outputs": [],
   "source": [
    "import os\n",
    "import torch\n",
    "\n",
    "from torchinfo import summary\n",
    "\n",
    "import torch\n",
    "import torch.nn as nn\n",
    "\n",
    "import torch.optim as optim\n",
    "from torch.optim import SGD\n",
    "import torch.nn.functional as F\n",
    "\n",
    "from torchvision import transforms, datasets\n",
    "from torch.utils.data import DataLoader, Subset, SubsetRandomSampler\n",
    "\n",
    "import numpy as np\n",
    "from sklearn.metrics import roc_curve\n",
    "from itertools import islice\n",
    "from facenet_pytorch import InceptionResnetV1\n",
    "\n",
    "import random\n",
    "\n",
    "import time\n",
    "import datetime\n"
   ]
  },
  {
   "cell_type": "code",
   "execution_count": 32,
   "metadata": {},
   "outputs": [],
   "source": [
    "# Set a random seed for reproducibility\n",
    "seed = 42\n",
    "torch.manual_seed(seed)\n",
    "\n",
    "# If using GPU, also set the seed for GPU\n",
    "torch.cuda.manual_seed_all(seed)\n"
   ]
  },
  {
   "cell_type": "code",
   "execution_count": 33,
   "metadata": {},
   "outputs": [
    {
     "name": "stdout",
     "output_type": "stream",
     "text": [
      "cuda\n"
     ]
    }
   ],
   "source": [
    "device = torch.device(\"cuda\" if torch.cuda.is_available() else \"cpu\")\n",
    "print(device)"
   ]
  },
  {
   "cell_type": "code",
   "execution_count": 34,
   "metadata": {},
   "outputs": [],
   "source": [
    "#teacher = InceptionResnetV1(pretrained='casia-webface', classify=False, device=device) \n",
    "#teacher = InceptionResnetV1(pretrained='vggface2', classify=False, device=device)\n"
   ]
  },
  {
   "cell_type": "code",
   "execution_count": 35,
   "metadata": {},
   "outputs": [],
   "source": [
    "model =  torch.load(\"KD_full_mobiFace_like_v1_1.pth\") "
   ]
  },
  {
   "cell_type": "code",
   "execution_count": 36,
   "metadata": {},
   "outputs": [
    {
     "data": {
      "text/plain": [
       "MobiFace(\n",
       "  (conv1): Conv2d(3, 64, kernel_size=(3, 3), stride=(2, 2), padding=(1, 1), bias=False)\n",
       "  (bn1): BatchNorm2d(64, eps=1e-05, momentum=0.1, affine=True, track_running_stats=True)\n",
       "  (depthwise_conv): DepthwiseSeparableConv2d(\n",
       "    (depthwise_conv): Conv2d(64, 64, kernel_size=(3, 3), stride=(1, 1), padding=(1, 1), groups=64, bias=False)\n",
       "    (pointwise_conv): Conv2d(64, 64, kernel_size=(1, 1), stride=(1, 1), bias=False)\n",
       "    (bn): BatchNorm2d(64, eps=1e-05, momentum=0.1, affine=True, track_running_stats=True)\n",
       "    (relu): PReLU(num_parameters=1)\n",
       "  )\n",
       "  (bn2): BatchNorm2d(64, eps=1e-05, momentum=0.1, affine=True, track_running_stats=True)\n",
       "  (bottleneck_block1): BottleneckBlock(\n",
       "    (conv1): Conv2d(64, 32, kernel_size=(1, 1), stride=(1, 1), bias=False)\n",
       "    (bn1): BatchNorm2d(32, eps=1e-05, momentum=0.1, affine=True, track_running_stats=True)\n",
       "    (relu): PReLU(num_parameters=1)\n",
       "    (depthwise_conv): DepthwiseSeparableConv2d(\n",
       "      (depthwise_conv): Conv2d(32, 32, kernel_size=(3, 3), stride=(2, 2), padding=(1, 1), groups=32, bias=False)\n",
       "      (pointwise_conv): Conv2d(32, 32, kernel_size=(1, 1), stride=(1, 1), bias=False)\n",
       "      (bn): BatchNorm2d(32, eps=1e-05, momentum=0.1, affine=True, track_running_stats=True)\n",
       "      (relu): PReLU(num_parameters=1)\n",
       "    )\n",
       "    (bn2): BatchNorm2d(32, eps=1e-05, momentum=0.1, affine=True, track_running_stats=True)\n",
       "    (conv3): Conv2d(32, 64, kernel_size=(1, 1), stride=(1, 1), bias=False)\n",
       "    (bn3): BatchNorm2d(64, eps=1e-05, momentum=0.1, affine=True, track_running_stats=True)\n",
       "    (shortcut): Sequential()\n",
       "  )\n",
       "  (residual_block1): InvertedResidualBlock(\n",
       "    (conv1): Conv2d(64, 128, kernel_size=(1, 1), stride=(1, 1), bias=False)\n",
       "    (bn1): BatchNorm2d(128, eps=1e-05, momentum=0.1, affine=True, track_running_stats=True)\n",
       "    (relu): PReLU(num_parameters=1)\n",
       "    (depthwise_conv): DepthwiseSeparableConv2d(\n",
       "      (depthwise_conv): Conv2d(128, 128, kernel_size=(3, 3), stride=(1, 1), padding=(1, 1), groups=128, bias=False)\n",
       "      (pointwise_conv): Conv2d(128, 128, kernel_size=(1, 1), stride=(1, 1), bias=False)\n",
       "      (bn): BatchNorm2d(128, eps=1e-05, momentum=0.1, affine=True, track_running_stats=True)\n",
       "      (relu): PReLU(num_parameters=1)\n",
       "    )\n",
       "    (bn2): BatchNorm2d(128, eps=1e-05, momentum=0.1, affine=True, track_running_stats=True)\n",
       "    (conv3): Conv2d(128, 64, kernel_size=(1, 1), stride=(1, 1), bias=False)\n",
       "    (bn3): BatchNorm2d(64, eps=1e-05, momentum=0.1, affine=True, track_running_stats=True)\n",
       "    (shortcut): Sequential()\n",
       "  )\n",
       "  (bottleneck_block2): BottleneckBlock(\n",
       "    (conv1): Conv2d(64, 32, kernel_size=(1, 1), stride=(1, 1), bias=False)\n",
       "    (bn1): BatchNorm2d(32, eps=1e-05, momentum=0.1, affine=True, track_running_stats=True)\n",
       "    (relu): PReLU(num_parameters=1)\n",
       "    (depthwise_conv): DepthwiseSeparableConv2d(\n",
       "      (depthwise_conv): Conv2d(32, 32, kernel_size=(3, 3), stride=(2, 2), padding=(1, 1), groups=32, bias=False)\n",
       "      (pointwise_conv): Conv2d(32, 32, kernel_size=(1, 1), stride=(1, 1), bias=False)\n",
       "      (bn): BatchNorm2d(32, eps=1e-05, momentum=0.1, affine=True, track_running_stats=True)\n",
       "      (relu): PReLU(num_parameters=1)\n",
       "    )\n",
       "    (bn2): BatchNorm2d(32, eps=1e-05, momentum=0.1, affine=True, track_running_stats=True)\n",
       "    (conv3): Conv2d(32, 128, kernel_size=(1, 1), stride=(1, 1), bias=False)\n",
       "    (bn3): BatchNorm2d(128, eps=1e-05, momentum=0.1, affine=True, track_running_stats=True)\n",
       "    (shortcut): Sequential()\n",
       "  )\n",
       "  (residual_block2): InvertedResidualBlock(\n",
       "    (conv1): Conv2d(128, 256, kernel_size=(1, 1), stride=(1, 1), bias=False)\n",
       "    (bn1): BatchNorm2d(256, eps=1e-05, momentum=0.1, affine=True, track_running_stats=True)\n",
       "    (relu): PReLU(num_parameters=1)\n",
       "    (depthwise_conv): DepthwiseSeparableConv2d(\n",
       "      (depthwise_conv): Conv2d(256, 256, kernel_size=(3, 3), stride=(1, 1), padding=(1, 1), groups=256, bias=False)\n",
       "      (pointwise_conv): Conv2d(256, 256, kernel_size=(1, 1), stride=(1, 1), bias=False)\n",
       "      (bn): BatchNorm2d(256, eps=1e-05, momentum=0.1, affine=True, track_running_stats=True)\n",
       "      (relu): PReLU(num_parameters=1)\n",
       "    )\n",
       "    (bn2): BatchNorm2d(256, eps=1e-05, momentum=0.1, affine=True, track_running_stats=True)\n",
       "    (conv3): Conv2d(256, 128, kernel_size=(1, 1), stride=(1, 1), bias=False)\n",
       "    (bn3): BatchNorm2d(128, eps=1e-05, momentum=0.1, affine=True, track_running_stats=True)\n",
       "    (shortcut): Sequential()\n",
       "  )\n",
       "  (bottleneck_block3): BottleneckBlock(\n",
       "    (conv1): Conv2d(128, 64, kernel_size=(1, 1), stride=(1, 1), bias=False)\n",
       "    (bn1): BatchNorm2d(64, eps=1e-05, momentum=0.1, affine=True, track_running_stats=True)\n",
       "    (relu): PReLU(num_parameters=1)\n",
       "    (depthwise_conv): DepthwiseSeparableConv2d(\n",
       "      (depthwise_conv): Conv2d(64, 64, kernel_size=(3, 3), stride=(2, 2), padding=(1, 1), groups=64, bias=False)\n",
       "      (pointwise_conv): Conv2d(64, 64, kernel_size=(1, 1), stride=(1, 1), bias=False)\n",
       "      (bn): BatchNorm2d(64, eps=1e-05, momentum=0.1, affine=True, track_running_stats=True)\n",
       "      (relu): PReLU(num_parameters=1)\n",
       "    )\n",
       "    (bn2): BatchNorm2d(64, eps=1e-05, momentum=0.1, affine=True, track_running_stats=True)\n",
       "    (conv3): Conv2d(64, 256, kernel_size=(1, 1), stride=(1, 1), bias=False)\n",
       "    (bn3): BatchNorm2d(256, eps=1e-05, momentum=0.1, affine=True, track_running_stats=True)\n",
       "    (shortcut): Sequential()\n",
       "  )\n",
       "  (residual_block3): InvertedResidualBlock(\n",
       "    (conv1): Conv2d(256, 512, kernel_size=(1, 1), stride=(1, 1), bias=False)\n",
       "    (bn1): BatchNorm2d(512, eps=1e-05, momentum=0.1, affine=True, track_running_stats=True)\n",
       "    (relu): PReLU(num_parameters=1)\n",
       "    (depthwise_conv): DepthwiseSeparableConv2d(\n",
       "      (depthwise_conv): Conv2d(512, 512, kernel_size=(3, 3), stride=(1, 1), padding=(1, 1), groups=512, bias=False)\n",
       "      (pointwise_conv): Conv2d(512, 512, kernel_size=(1, 1), stride=(1, 1), bias=False)\n",
       "      (bn): BatchNorm2d(512, eps=1e-05, momentum=0.1, affine=True, track_running_stats=True)\n",
       "      (relu): PReLU(num_parameters=1)\n",
       "    )\n",
       "    (bn2): BatchNorm2d(512, eps=1e-05, momentum=0.1, affine=True, track_running_stats=True)\n",
       "    (conv3): Conv2d(512, 256, kernel_size=(1, 1), stride=(1, 1), bias=False)\n",
       "    (bn3): BatchNorm2d(256, eps=1e-05, momentum=0.1, affine=True, track_running_stats=True)\n",
       "    (shortcut): Sequential()\n",
       "  )\n",
       "  (conv3): Conv2d(256, 512, kernel_size=(1, 1), stride=(1, 1), bias=False)\n",
       "  (bn3): BatchNorm2d(512, eps=1e-05, momentum=0.1, affine=True, track_running_stats=True)\n",
       "  (relu): PReLU(num_parameters=1)\n",
       "  (fc): Linear(in_features=512, out_features=512, bias=True)\n",
       "  (logits): Linear(in_features=512, out_features=10575, bias=True)\n",
       ")"
      ]
     },
     "execution_count": 36,
     "metadata": {},
     "output_type": "execute_result"
    }
   ],
   "source": [
    "teacher_v2.to(device)"
   ]
  },
  {
   "cell_type": "code",
   "execution_count": 37,
   "metadata": {},
   "outputs": [],
   "source": [
    "# Define data transformations\n",
    "transform = transforms.Compose([\n",
    "    transforms.Resize((112, 112)),\n",
    "    transforms.ToTensor(),\n",
    "    transforms.Normalize(mean=[0.5, 0.5, 0.5], std=[0.5, 0.5, 0.5])\n",
    "])"
   ]
  },
  {
   "cell_type": "code",
   "execution_count": 38,
   "metadata": {},
   "outputs": [],
   "source": [
    "# directory for test\n",
    "root_dir= \"C:\\\\Users\\\\mathe\\\\OneDrive\\\\Área de Trabalho\\\\master\\\\TFM\\\\dataset\\\\faces_webface_112x112\\\\images\"\n",
    "\n",
    "\n",
    "batch_size = 64\n",
    "\n",
    "# Create ImageFolder dataset\n",
    "dataset = datasets.ImageFolder(root=root_dir, transform=transform)\n",
    "\n",
    "# Number of images for testing\n",
    "num_test_images = 1000\n",
    "\n",
    "# Total number of images\n",
    "total_images = len(dataset)\n",
    "\n",
    "# Indices of images for testing\n",
    "test_indices = random.sample(range(total_images), num_test_images)\n",
    "\n",
    "# Remaining indices for validation and training\n",
    "remaining_indices = set(range(total_images)) - set(test_indices)\n",
    "\n",
    "\n",
    "# Split remaining indices into validation and training sets\n",
    "remaining_indices = list(remaining_indices)\n",
    "random.shuffle(remaining_indices)\n",
    "\n",
    "\n",
    "# Define the sizes of validation and training sets\n",
    "val_size = int(0.20 * len(remaining_indices))\n",
    "train_size = len(remaining_indices) - val_size\n",
    "\n",
    "# Indices for validation and training sets\n",
    "val_indices = remaining_indices[:val_size]\n",
    "train_indices = remaining_indices[val_size:]\n",
    "\n",
    "\n",
    "# Create Subset datasets\n",
    "test_dataset = Subset(dataset, test_indices)\n",
    "val_dataset = Subset(dataset, val_indices)\n",
    "train_dataset = Subset(dataset, train_indices)\n",
    "\n",
    "# Create DataLoader for training, validation, and testing\n",
    "batch_size = 1  # Set batch size to 1 since we are loading images one by one\n",
    "train_loader = DataLoader(train_dataset, batch_size=batch_size, shuffle=False, num_workers=0)\n",
    "val_loader = DataLoader(val_dataset, batch_size=batch_size, shuffle=False, num_workers=0)\n",
    "test_loader = DataLoader(test_dataset, batch_size=batch_size, shuffle=False, num_workers=0)\n"
   ]
  },
  {
   "cell_type": "code",
   "execution_count": 39,
   "metadata": {},
   "outputs": [],
   "source": [
    "#teacher_v2.logits  = nn.Identity() "
   ]
  },
  {
   "cell_type": "code",
   "execution_count": 40,
   "metadata": {},
   "outputs": [],
   "source": [
    "inputs_total = []\n",
    "labels_total = []\n",
    "for inputs, labels in islice(train_loader,32):\n",
    "    inputs, labels = inputs.to(device), labels.to(device)\n",
    "    labels_total.append(labels)\n",
    "    inputs_total.append(inputs)"
   ]
  },
  {
   "cell_type": "code",
   "execution_count": 41,
   "metadata": {},
   "outputs": [],
   "source": [
    "teacher= teacher_v2"
   ]
  },
  {
   "cell_type": "code",
   "execution_count": 43,
   "metadata": {},
   "outputs": [],
   "source": [
    "def cosine_similarity(embeddings1, embeddings2):\n",
    "    dot_product = torch.dot(embeddings1, embeddings2)\n",
    "    norm_embeddings1 = torch.norm(embeddings1)\n",
    "    norm_embeddings2 = torch.norm(embeddings2)\n",
    "    return dot_product / (norm_embeddings1 * norm_embeddings2)\n",
    "\n",
    "\n",
    "embeddings = []  # List to store embeddings\n",
    "labels_list = []  # List to store labels\n",
    "comparison_similarity = []\n",
    "\n",
    "teacher.eval()\n",
    "for images,labels in test_loader:\n",
    "    with torch.no_grad():\n",
    "        outputs = teacher(images.to(device))[0]\n",
    "    embeddings.append(outputs.to(device))\n",
    "    labels_list.append(labels.to(device))\n",
    "\n",
    "\n",
    "embeddings = torch.cat(embeddings, dim=0)\n",
    "labels_list = torch.cat(labels_list, dim=0)\n",
    "\n",
    "# Prepare labels for pairwise similarity scores (1 for same person, 0 for different people)\n",
    "pairwise_labels = []\n",
    "comparisons_label = []\n",
    "for i, (images1, label1) in enumerate(test_loader):\n",
    "    for j, (images2, label2) in enumerate(test_loader):\n",
    "        if j > i:  # Only consider pairs where j > i to avoid duplicate pairs and pairs with the same image\n",
    "            if label1 == label2:\n",
    "                pair_label = 1  # Same person\n",
    "            else:\n",
    "                pair_label = 0  # Different people\n",
    "            pairwise_labels.append(pair_label)\n",
    "            comparisons_label.append([pair_label,label1,label2])\n",
    "\n",
    "# Convert pairwise labels to a tensor\n",
    "pairwise_labels_tensor = torch.tensor(pairwise_labels, device=device)\n",
    "\n",
    "\n",
    "similarities = []\n",
    "for i in range(len(embeddings)):\n",
    "    for j in range(i+1, len(embeddings)):\n",
    "        similarity = cosine_similarity(embeddings[i], embeddings[j])\n",
    "        comparison_similarity.append([similarity,labels_list[i],labels_list[j]])\n",
    "        similarities.append(similarity)\n",
    "\n",
    "similarities_tensor = torch.tensor(similarities, device=device)"
   ]
  },
  {
   "cell_type": "code",
   "execution_count": 44,
   "metadata": {},
   "outputs": [
    {
     "name": "stdout",
     "output_type": "stream",
     "text": [
      "2024-03-19 21:40:33\n",
      "Equal Error Rate (EER): tensor(0.1140, device='cuda:0', dtype=torch.float64)\n"
     ]
    }
   ],
   "source": [
    "start_time = time.time()\n",
    "formatted_time = datetime.datetime.fromtimestamp(start_time).strftime('%Y-%m-%d %H:%M:%S')\n",
    "\n",
    "print(formatted_time)\n",
    "\n",
    "# Compute ROC curve\n",
    "\n",
    "#fpr, tpr, thresholds = roc_curve(pairwise_labels_tensor.cpu().numpy(), similarities_tensor.cpu().numpy())\n",
    "fpr, tpr, thresholds = roc_curve(pairwise_labels_tensor.cpu().numpy(), similarities_tensor.cpu().numpy())\n",
    "\n",
    "\n",
    "# Move thresholds to CUDA\n",
    "\n",
    "thresholds_tensor = torch.tensor(thresholds, device=device)\n",
    "\n",
    "\n",
    "# Convert fpr and tpr to PyTorch tensors\n",
    "\n",
    "fpr_tensor = torch.tensor(fpr, device=device)\n",
    "tpr_tensor = torch.tensor(tpr, device=device)\n",
    "\n",
    "\n",
    "# Calculate EER\n",
    "eer_threshold = thresholds_tensor[torch.argmin(torch.abs(fpr_tensor - (1 - tpr_tensor)))]\n",
    "eer = (fpr_tensor[torch.argmin(torch.abs(fpr_tensor - (1 - tpr_tensor)))] + (1 - tpr_tensor)[torch.argmin(torch.abs(fpr_tensor - (1 - tpr_tensor)))]) / 2\n",
    "\n",
    "print(\"Equal Error Rate (EER):\", eer)"
   ]
  },
  {
   "cell_type": "code",
   "execution_count": 45,
   "metadata": {},
   "outputs": [
    {
     "data": {
      "image/png": "[encoded data removed]",
      "text/plain": [
       "<Figure size 640x480 with 1 Axes>"
      ]
     },
     "metadata": {},
     "output_type": "display_data"
    },
    {
     "name": "stdout",
     "output_type": "stream",
     "text": [
      "2024-03-19 21:40:40\n"
     ]
    }
   ],
   "source": [
    "import matplotlib.pyplot as plt\n",
    "from sklearn.metrics import roc_curve, auc\n",
    "\n",
    "roc_auc = auc(fpr, tpr)\n",
    "\n",
    "# Plot ROC curve\n",
    "plt.figure()\n",
    "plt.plot(fpr, tpr, color='darkorange', lw=2, label='ROC curve (area = %0.2f)' % roc_auc)\n",
    "plt.plot([0, 1], [0, 1], color='navy', lw=2, linestyle='--')\n",
    "\n",
    "# Plot EER point\n",
    "plt.scatter(fpr_tensor[torch.argmin(torch.abs(fpr_tensor.cpu() - (1 - tpr_tensor.cpu())))].cpu(), \n",
    "            tpr_tensor[torch.argmin(torch.abs(fpr_tensor.cpu() - (1 - tpr_tensor.cpu())))].cpu(), \n",
    "            s=100, c='red', marker='o', label='EER = %0.2f' % eer)\n",
    "\n",
    "plt.xlim([0.0, 1.0])\n",
    "plt.ylim([0.0, 1.05])\n",
    "plt.xlabel('False Positive Rate')\n",
    "plt.ylabel('True Positive Rate')\n",
    "plt.title(f'Receiver Operating Characteristic (ROC) Curve Teacher Threshold ')\n",
    "plt.legend(loc=\"lower right\")\n",
    "plt.show()\n",
    "\n",
    "\n",
    "end_time = time.time()\n",
    "\n",
    "formatted_time = datetime.datetime.fromtimestamp(end_time).strftime('%Y-%m-%d %H:%M:%S')\n",
    "print(formatted_time)\n",
    "\n",
    "execution_time = end_time - start_time\n",
    "\n",
    "\n",
    "with open(\"execution_time_kd_v11.txt\", \"w\") as file:\n",
    "    file.write(f\"Execution time: {execution_time} seconds\")"
   ]
  },
  {
   "cell_type": "code",
   "execution_count": null,
   "metadata": {},
   "outputs": [],
   "source": [
    "above_threshold_indices = (similarities_tensor.cpu() > eer_threshold.cpu()).nonzero()\n"
   ]
  },
  {
   "cell_type": "code",
   "execution_count": null,
   "metadata": {},
   "outputs": [],
   "source": [
    "filtered_list = [pairwise_labels_tensor[idx[0]] for idx in above_threshold_indices]"
   ]
  },
  {
   "cell_type": "code",
   "execution_count": null,
   "metadata": {},
   "outputs": [
    {
     "data": {
      "text/plain": [
       "(array([0, 1], dtype=int64), array([150636,    504], dtype=int64))"
      ]
     },
     "execution_count": 17,
     "metadata": {},
     "output_type": "execute_result"
    }
   ],
   "source": [
    "np.unique(torch.asarray(filtered_list,device= device).cpu(),return_counts = True)"
   ]
  },
  {
   "cell_type": "code",
   "execution_count": null,
   "metadata": {},
   "outputs": [
    {
     "data": {
      "text/plain": [
       "tensor([False, False, False,  ..., False, False, False], device='cuda:0')"
      ]
     },
     "execution_count": 18,
     "metadata": {},
     "output_type": "execute_result"
    }
   ],
   "source": [
    "embeddings[0] == embeddings[1]"
   ]
  }
 ],
 "metadata": {
  "kernelspec": {
   "display_name": "Python 3",
   "language": "python",
   "name": "python3"
  },
  "language_info": {
   "codemirror_mode": {
    "name": "ipython",
    "version": 3
   },
   "file_extension": ".py",
   "mimetype": "text/x-python",
   "name": "python",
   "nbconvert_exporter": "python",
   "pygments_lexer": "ipython3",
   "version": "3.10.6"
  }
 },
 "nbformat": 4,
 "nbformat_minor": 2
}
