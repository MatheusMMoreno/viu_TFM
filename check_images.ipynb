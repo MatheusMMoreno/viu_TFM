{
 "cells": [
  {
   "cell_type": "code",
   "execution_count": 2,
   "metadata": {},
   "outputs": [],
   "source": [
    "from PIL import Image\n",
    "import os\n",
    "\n",
    "def get_image_sizes(folder_path):\n",
    "    image_sizes = []\n",
    "\n",
    "    # Loop through all files in the folder\n",
    "    for filename in os.listdir(folder_path):\n",
    "        file_path = os.path.join(folder_path, filename)\n",
    "\n",
    "        # Check if the file is an image (you can add more image file extensions if needed)\n",
    "        if os.path.isfile(file_path) and filename.lower().endswith(('.png', '.jpg', '.jpeg', '.gif')):\n",
    "            with Image.open(file_path) as img:\n",
    "                width, height = img.size\n",
    "                image_sizes.append((filename, width, height))\n",
    "\n",
    "    return image_sizes\n",
    "\n",
    "\n"
   ]
  },
  {
   "cell_type": "code",
   "execution_count": 3,
   "metadata": {},
   "outputs": [],
   "source": [
    "# Replace \"/path/to/your/images\" with the actual path to your image folder\n",
    "folder_path = \"C:\\\\Users\\\\mathe\\\\OneDrive\\\\Área de Trabalho\\\\master\\\\TFM\\dataset\\\\faces_webface_112x112\\\\images\\\\0.0\"\n",
    "sizes = get_image_sizes(folder_path)"
   ]
  },
  {
   "cell_type": "code",
   "execution_count": 4,
   "metadata": {},
   "outputs": [
    {
     "name": "stdout",
     "output_type": "stream",
     "text": [
      "Image: 0.jpg, Size: 112x112\n",
      "Image: 1.jpg, Size: 112x112\n",
      "Image: 10.jpg, Size: 112x112\n",
      "Image: 11.jpg, Size: 112x112\n",
      "Image: 12.jpg, Size: 112x112\n",
      "Image: 13.jpg, Size: 112x112\n",
      "Image: 14.jpg, Size: 112x112\n",
      "Image: 2.jpg, Size: 112x112\n",
      "Image: 3.jpg, Size: 112x112\n",
      "Image: 4.jpg, Size: 112x112\n",
      "Image: 5.jpg, Size: 112x112\n",
      "Image: 6.jpg, Size: 112x112\n",
      "Image: 7.jpg, Size: 112x112\n",
      "Image: 8.jpg, Size: 112x112\n",
      "Image: 9.jpg, Size: 112x112\n"
     ]
    }
   ],
   "source": [
    "# Print the sizes of all images\n",
    "for filename, width, height in sizes:\n",
    "    print(f\"Image: {filename}, Size: {width}x{height}\")"
   ]
  }
 ],
 "metadata": {
  "kernelspec": {
   "display_name": "Python 3",
   "language": "python",
   "name": "python3"
  },
  "language_info": {
   "codemirror_mode": {
    "name": "ipython",
    "version": 3
   },
   "file_extension": ".py",
   "mimetype": "text/x-python",
   "name": "python",
   "nbconvert_exporter": "python",
   "pygments_lexer": "ipython3",
   "version": "3.10.6"
  }
 },
 "nbformat": 4,
 "nbformat_minor": 2
}
